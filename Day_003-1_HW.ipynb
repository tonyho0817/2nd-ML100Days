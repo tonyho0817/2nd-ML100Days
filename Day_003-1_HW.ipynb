{
 "cells": [
  {
   "cell_type": "markdown",
   "metadata": {},
   "source": [
    "## 練習時間\n",
    "在小量的資料上，我們用眼睛就可以看得出來程式碼是否有跑出我們理想中的結果\n",
    "\n",
    "請嘗試想像一個你需要的資料結構 (裡面的值可以是隨機的)，然後用上述的方法把它變成 pandas DataFrame\n",
    "\n",
    "#### Ex: 想像一個 dataframe 有兩個欄位，一個是國家，一個是人口，求人口數最多的國家\n",
    "\n",
    "### Hints: [隨機產生數值](https://blog.csdn.net/christianashannon/article/details/78867204)"
   ]
  },
  {
   "cell_type": "code",
   "execution_count": 1,
   "metadata": {},
   "outputs": [],
   "source": [
    "import pandas as pd\n",
    "import numpy as np"
   ]
  },
  {
   "cell_type": "code",
   "execution_count": 2,
   "metadata": {},
   "outputs": [
    {
     "name": "stdout",
     "output_type": "stream",
     "text": [
      "[88673.97003524 47528.70512963 12555.23900186]\n",
      "[88674, 47529, 12555]\n",
      "{'國家': ['魏', '蜀', '吳'], '人口': [88674, 47529, 12555]}\n",
      "  國家     人口\n",
      "0  魏  88674\n",
      "1  蜀  47529\n",
      "2  吳  12555\n"
     ]
    },
    {
     "data": {
      "text/plain": [
       "國家        魏\n",
       "人口    88674\n",
       "Name: 0, dtype: object"
      ]
     },
     "execution_count": 2,
     "metadata": {},
     "output_type": "execute_result"
    }
   ],
   "source": [
    "data = {'國家':['魏','蜀','吳'] ,\n",
    "        '人口': [0,0,0]}\n",
    "\n",
    "a = np.random.rand(3)*100000\n",
    "print (a)\n",
    "newlist = [int(round(n, 0)) for n in a]\n",
    "print(newlist)\n",
    "data['人口'] = newlist\n",
    "print(data)\n",
    "data = pd.DataFrame(data)\n",
    "\n",
    "print(data)\n",
    "\n",
    "data.loc[data['人口'].idxmax()]"
   ]
  },
  {
   "cell_type": "code",
   "execution_count": null,
   "metadata": {},
   "outputs": [],
   "source": []
  }
 ],
 "metadata": {
  "kernelspec": {
   "display_name": "Python 3",
   "language": "python",
   "name": "python3"
  },
  "language_info": {
   "codemirror_mode": {
    "name": "ipython",
    "version": 3
   },
   "file_extension": ".py",
   "mimetype": "text/x-python",
   "name": "python",
   "nbconvert_exporter": "python",
   "pygments_lexer": "ipython3",
   "version": "3.7.3"
  }
 },
 "nbformat": 4,
 "nbformat_minor": 2
}
