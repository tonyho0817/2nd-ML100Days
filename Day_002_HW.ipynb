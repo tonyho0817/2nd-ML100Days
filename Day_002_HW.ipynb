{
 "cells": [
  {
   "cell_type": "markdown",
   "metadata": {},
   "source": [
    "## 練習時間\n",
    "資料的操作有很多，接下來的馬拉松中我們會介紹常被使用到的操作，參加者不妨先自行想像一下，第一次看到資料，我們一般會想知道什麼訊息？\n",
    "\n",
    "#### Ex: 如何知道資料的 row 數以及 column 數、有什麼欄位、多少欄位、如何截取部分的資料等等\n",
    "\n",
    "有了對資料的好奇之後，我們又怎麼通過程式碼來達成我們的目的呢？\n",
    "\n",
    "#### 可參考該[基礎教材](https://bookdata.readthedocs.io/en/latest/base/01_pandas.html#DataFrame-%E5%85%A5%E9%97%A8)或自行 google"
   ]
  },
  {
   "cell_type": "code",
   "execution_count": 1,
   "metadata": {},
   "outputs": [],
   "source": [
    "import os\n",
    "import numpy as np\n",
    "import pandas as pd"
   ]
  },
  {
   "cell_type": "code",
   "execution_count": 2,
   "metadata": {},
   "outputs": [],
   "source": [
    "# 設定 data_path\n",
    "dir_data = './data/'"
   ]
  },
  {
   "cell_type": "code",
   "execution_count": 3,
   "metadata": {},
   "outputs": [
    {
     "name": "stdout",
     "output_type": "stream",
     "text": [
      "Path of read in data: ./data/application_train.csv\n"
     ]
    }
   ],
   "source": [
    "f_app = os.path.join(dir_data, 'application_train.csv')\n",
    "print('Path of read in data: %s' % (f_app))\n",
    "app_train = pd.read_csv(f_app)"
   ]
  },
  {
   "cell_type": "markdown",
   "metadata": {},
   "source": [
    "### 如果沒有想法，可以先嘗試找出剛剛例子中提到的問題的答案\n",
    "#### 資料的 row 數以及 column 數"
   ]
  },
  {
   "cell_type": "code",
   "execution_count": 4,
   "metadata": {},
   "outputs": [
    {
     "name": "stdout",
     "output_type": "stream",
     "text": [
      "tatol rows = 307511\n",
      "tatol column = 122\n"
     ]
    }
   ],
   "source": [
    "t = app_train.shape\n",
    "print('tatol rows = ' +str(t[0]))\n",
    "print('tatol column = ' +str(t[1]))"
   ]
  },
  {
   "cell_type": "code",
   "execution_count": 5,
   "metadata": {},
   "outputs": [],
   "source": [
    "#### 列出所有欄位"
   ]
  },
  {
   "cell_type": "markdown",
   "metadata": {
    "collapsed": true
   },
   "source": [
    "list(app_train.columns.values)"
   ]
  },
  {
   "cell_type": "markdown",
   "metadata": {},
   "source": [
    "#### 截取部分資料"
   ]
  },
  {
   "cell_type": "code",
   "execution_count": 6,
   "metadata": {},
   "outputs": [
    {
     "name": "stdout",
     "output_type": "stream",
     "text": [
      "       FLAG_OWN_CAR\n",
      "0                 N\n",
      "1                 N\n",
      "2                 Y\n",
      "3                 N\n",
      "4                 N\n",
      "5                 N\n",
      "6                 Y\n",
      "7                 Y\n",
      "8                 N\n",
      "9                 N\n",
      "10                N\n",
      "11                N\n",
      "12                N\n",
      "13                Y\n",
      "14                N\n",
      "15                Y\n",
      "16                N\n",
      "17                N\n",
      "18                N\n",
      "19                N\n",
      "20                Y\n",
      "21                Y\n",
      "22                N\n",
      "23                N\n",
      "24                Y\n",
      "25                N\n",
      "26                N\n",
      "27                N\n",
      "28                Y\n",
      "29                N\n",
      "...             ...\n",
      "307481            N\n",
      "307482            Y\n",
      "307483            N\n",
      "307484            Y\n",
      "307485            N\n",
      "307486            Y\n",
      "307487            N\n",
      "307488            N\n",
      "307489            N\n",
      "307490            N\n",
      "307491            Y\n",
      "307492            Y\n",
      "307493            N\n",
      "307494            Y\n",
      "307495            Y\n",
      "307496            N\n",
      "307497            Y\n",
      "307498            Y\n",
      "307499            N\n",
      "307500            N\n",
      "307501            N\n",
      "307502            N\n",
      "307503            N\n",
      "307504            N\n",
      "307505            N\n",
      "307506            N\n",
      "307507            N\n",
      "307508            N\n",
      "307509            N\n",
      "307510            N\n",
      "\n",
      "[307511 rows x 1 columns]\n"
     ]
    }
   ],
   "source": [
    "nn = app_train.filter(regex=\"FLAG_OWN_CAR\")\n",
    "print(nn)"
   ]
  },
  {
   "cell_type": "markdown",
   "metadata": {},
   "source": [
    "#### 還有各種數之不盡的資料操作，重點還是取決於實務中遇到的狀況和你想問的問題，在馬拉松中我們也會陸續提到更多例子"
   ]
  },
  {
   "cell_type": "code",
   "execution_count": null,
   "metadata": {
    "collapsed": true
   },
   "outputs": [],
   "source": []
  }
 ],
 "metadata": {
  "kernelspec": {
   "display_name": "Python 3",
   "language": "python",
   "name": "python3"
  },
  "language_info": {
   "codemirror_mode": {
    "name": "ipython",
    "version": 3
   },
   "file_extension": ".py",
   "mimetype": "text/x-python",
   "name": "python",
   "nbconvert_exporter": "python",
   "pygments_lexer": "ipython3",
   "version": "3.7.3"
  }
 },
 "nbformat": 4,
 "nbformat_minor": 2
}
